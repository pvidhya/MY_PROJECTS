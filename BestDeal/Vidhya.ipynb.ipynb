﻿{
 "cells": [
  {
   "cell_type": "code",
   "execution_count": 99,
   "metadata": {
    "collapsed": false
   },
   "outputs": [],
   "source": [
    "from TwitterAPI import TwitterAPI, TwitterOAuth, TwitterRestPager\n"
   ]
  },
  {
   "cell_type": "code",
   "execution_count": 100,
   "metadata": {
    "collapsed": true
   },
   "outputs": [],
   "source": [
    "o = TwitterOAuth.read_file('credentials.txt')"
   ]
  },
  {
   "cell_type": "code",
   "execution_count": 101,
   "metadata": {
    "collapsed": false
   },
   "outputs": [
    {
     "data": {
      "text/plain": [
       "'98322749-geCYYTYjMXhaD7Wbd6oLexa3meCRXClh7UwwkwsZl'"
      ]
     },
     "execution_count": 101,
     "metadata": {},
     "output_type": "execute_result"
    }
   ],
   "source": [
    "o.access_token_key"
   ]
  },
  {
   "cell_type": "code",
   "execution_count": 102,
   "metadata": {
    "collapsed": true
   },
   "outputs": [],
   "source": [
    "# Using OAuth1...\n",
    "twitter = TwitterAPI(o.consumer_key,\n",
    "                 o.consumer_secret,\n",
    "                 o.access_token_key,\n",
    "                 o.access_token_secret)"
   ]
  },
  {
   "cell_type": "code",
   "execution_count": 103,
   "metadata": {
    "collapsed": false
   },
   "outputs": [
    {
     "name": "stdout",
     "output_type": "stream",
     "text": [
      "got 200 tweets for user BestBuy_Deals\n"
     ]
    }
   ],
   "source": [
    "screen_name = 'BestBuy_Deals'\n",
    "timeline = [tweet for tweet in twitter.request('statuses/user_timeline',\n",
    "                                                {'screen_name': screen_name,\n",
    "                                                 'count': 200})]\n",
    "print 'got %d tweets for user %s' % (len(timeline), screen_name)"
   ]
  },
  {
   "cell_type": "code",
   "execution_count": 287,
   "metadata": {
    "collapsed": false
   },
   "outputs": [
    {
     "data": {
      "text/plain": [
       "16"
      ]
     },
     "execution_count": 287,
     "metadata": {},
     "output_type": "execute_result"
    }
   ],
   "source": [
    "import re\n",
    "import pymysql\n",
    "import sys\n",
    "cnx = pymysql.connect(user='root', password='root',\n",
    "                              host='127.0.0.1',\n",
    "                              database='example')\n",
    "cursor = cnx.cursor()\n",
    "\n",
    "query = (\"SELECT productid,productName FROM products\")\n",
    "cursor.execute(query)\n",
    "\n",
    "\n"
   ]
  },
  {
   "cell_type": "code",
   "execution_count": 105,
   "metadata": {
    "collapsed": false
   },
   "outputs": [
    {
     "name": "stdout",
     "output_type": "stream",
     "text": [
      "('001', 'iPhone7')\n",
      "('002', 'iPhone6')\n",
      "('003', 'Samsung Galaxy S7')\n",
      "('004', 'SamsungEdge')\n",
      "('00L1', 'Alienware 17')\n",
      "('00L2', 'MacBook Air 13.3\\x94')\n",
      "('00L3', 'Dell inspiron 15')\n",
      "('00L4', 'HP 17.3\"')\n",
      "('00T1', 'iPad mini')\n",
      "('00T2', 'Macbook Pro')\n",
      "('00T3', 'Lenovo tab3')\n",
      "('00T4', 'Samsung tab2')\n",
      "('00TV1', \"Samsung 40'\")\n",
      "('00TV2', \"Samsung 60'\")\n",
      "('00TV3', 'Tosh')\n",
      "('00TV4', \"Insignia 48'\")\n"
     ]
    }
   ],
   "source": [
    "for m in cursor:\n",
    "    print m"
   ]
  },
  {
   "cell_type": "code",
   "execution_count": 106,
   "metadata": {
    "collapsed": false
   },
   "outputs": [
    {
     "name": "stdout",
     "output_type": "stream",
     "text": [
      "Free 64GB MicroSD Memory Card and Free $35 Best Buy gift card with purchase. #GiftingMadeEasy https://t.co/nZQ0Xh5GK3\n",
      "Black Friday savings still here. Get select games for only $29.99. #GiftingMadeEasy https://t.co/hcll3OmuDK\n",
      "Get up to a $250 Best Buy gift card with purchase of any iPhone 7 device. #GiftingMadeEasy https://t.co/4t3rJLTklX\n",
      "Save $350 on Sony HTRT5 Sound Bar with Wireless Sub and Rear Speaker. #DailyDeal https://t.co/6VzIiBzrbl\n",
      "Save $200 on DJI Phantom 4 Drone — Only $999.99. #GiftingMadeEasy https://t.co/YWvAKZlV9R\n",
      "RT @BestBuy: Saturday Doorbuster Alert\n",
      "\n",
      "MacBook Pro with Retina display 13.3”. #GiftingMadeEasy https://t.co/d1LsKIleTW\n",
      "RT @BestBuy: Saturday Doorbuster Alert\n",
      "\n",
      "Sony 55” Class (54.6” Diag.) LED 1080p Smart HDTV. #GiftingMadeEasy https://t.co/9KAxPyaCzp\n",
      "Black Friday deals are still here. Save $50 on all Xbox One consoles. Starting at $249.99. #GiftingMadeEasy https://t.co/L1cJfsj4GN\n",
      "Instead of sugar plums, let visions of birds, chipmunks and dragons dance in their heads. #GiftingMadeEasy https://t.co/0La6q0P7Ek\n",
      "We’ve got movies that’ll make ‘em laugh, cry and cheer. #GiftingMadeEasy https://t.co/UbAmy07wzz\n",
      "Save $420 on a Vizio 60” LED 4K Ultra HD Smart Home Theater Display. #DailyDeal https://t.co/UtbBk5z5gN\n",
      "RT @BestBuy: 8AM is coming.\n",
      "We’ve added two new doorbusters.\n",
      "Sharp LED 1080p Smart HDTV and Lenovo 11.6” Laptop. #GiftingMadeEasy https://t…\n",
      "Free $400 gift card + free Samsung Gear VR when you buy a Samsung Galaxy S7 or S7 edge on Verizon. #GiftingMadeEasy https://t.co/uqDPy7j42Y\n",
      "Save $50 on the #PS4 Uncharted 4 bundle + these two free games. #GiftingMadeEasy https://t.co/Gbq189VEkn\n",
      "Save $180 on a Westinghouse 50\" Class (49.5\" Diag.) LED 2160p Smart 4K Ultra HD TV. #DailyDeal https://t.co/oKdoUZDxsi\n",
      "RT @BestBuy: The #BlackFriday deals are ready. Are you? https://t.co/h1Qn0kUJLa\n",
      "Save $70 on a select HP 17.3\" Laptop with Intel Core i7, 8GB Memory and a 1TB Hard Drive. #DailyDeal https://t.co/bHGVgeEeAu\n",
      "Save $130 on a VIZIO 5.1 Channel Soundbar System with Bluetooth and 6\" Wireless Subwoofer. #DailyDeal https://t.co/mmW3zcZ6HH\n",
      "RT @VIZIO: Get $300 off a 65” E-Series SmartCast™ Display and $100 off a 38” 3.1 Sound Bar System today at @BestBuy. Shop now: https://t.co…\n",
      "TODAY ONLY\n",
      "Get Finding Dory on Blu-ray with an exclusive activity book for $12.99. #OnlyAtBestBuy https://t.co/CweNlfqrod\n",
      "Save $150 on a Toshiba 55\" Class (54.6\" Diag.) LED 2160p 4K Ultra HDTV w/ Chromecast Built-in. #DailyDeal https://t.co/tn6LN3ok4A\n",
      "Get a Lenovo 2-in-1 Laptop for $199.99. #DailyDeal https://t.co/3fq7u4aQXI\n",
      "Bring Alexa home today.\n",
      "\n",
      "My Best Buy members save $20 with purchase of 3 Amazon Echo Dots. https://t.co/JXY0MDnZRW\n",
      "Save $70 on a Westinghouse 55\" Class (54.6\" Diag.) LED 1080p HDTV. #DailyDeal https://t.co/MRGNeyfEiI\n",
      "Save $170 on an HP ENVY Desktop with Intel Core i7, 16GB Memory and a 2TB Hard Drive. #DailyDeal https://t.co/WOeKRzHxdI\n",
      "Get a $100 iTunes Gift Card for $80. #DailyDeal https://t.co/YuneX8lJ6z\n",
      "Save $40 on a Verizon Samsung Galaxy J3 4G LTE with 8GB Memory Prepaid Cell Phone. #DailyDeal https://t.co/XONBfUJytx\n",
      "Get a Lenovo Laptop for $189.99. #DailyDeal https://t.co/OMr04eR8jA\n",
      "Want Exclusive Savings? Get our App. \n",
      "\n",
      "Save on a Dyson V6 Absolute Vacuum and other great deals, for a limited time. https://t.co/chbyFmJCWL\n",
      "Save $65 on a BRAVEN BRV-PRO Portable Bluetooth Speaker. #DailyDeal https://t.co/W1JSKuT0cC\n",
      "Save $20 on the Hot Pink Fujifilm instax mini 8 Instant Film Camera. #DailyDeal #OnlyAtBestBuy https://t.co/AFgMqvhRNP\n",
      "RT @BestBuy: Check out these awesome TV deals.\n",
      "\n",
      "Like a Toshiba 55\" Class 4K Ultra HDTV with Chromecast built in for $399.99. https://t.co/9…\n",
      "HOT ONE DAY ONLY TV OFFERS: Save up to 30% on select HDTVs. #DailyDeal https://t.co/pPouHNenir\n",
      "Get Fallout 4 and a Game of your choice, $59.99 and under, with purchase of any Xbox One console. #DailyDeal https://t.co/CTfCLV0IbK\n",
      "RT @BestBuy: We’ve got #BlackFriday deals that just couldn’t wait. Get ‘em while they’re hot. #GiftingMadeEasy https://t.co/eBjmwhTvvp\n",
      "RT @BestBuy: Here you go. An early gift, from our #BlackFriday Ad. For being so good this year. #GiftingMadeEasy https://t.co/G0UToN3JFm\n",
      "Save $80 on a Lenovo Laptop. #DailyDeal https://t.co/G6rZjKzqne\n",
      "RT @BestBuy: The deals, they are upon us.\n",
      "\n",
      "This #BlackFriday Ad deal is ready early. #GiftingMadeEasy https://t.co/CtEdn8uBak\n",
      "Save on select SanDisk Memory Cards. #DailyDeal https://t.co/mFhpauIrDZ\n",
      "Save $50 on a Westinghouse 40\" Class (39.5\" Diag.) LED 1080p Smart HDTV. #DailyDeal https://t.co/AxQ7FxOx4t\n",
      "Save $50 on mophie powerstation mini External Battery for Most USB Devices. #DailyDeal https://t.co/WgKjLJ4STC\n",
      "Save $40 on a Garmin nüvi 65LM 6\" Portable GPS with Lifetime Map Updates. #DailyDeal https://t.co/7aQ5Jh2OrG\n",
      "Save $80 on a Lenovo Laptop. #DailyDeal https://t.co/G78a4LVcld\n",
      "Save $450 on select Original Apple Watch. #DailyDeal https://t.co/pac0Hr0kCe\n",
      "Save $70 on a Westinghouse 55\" Class (54.6\" Diag.) LED 2160p Smart 4K Ultra HD TV. #DailyDeal https://t.co/EPErE0dqBv\n",
      "Get a Lenovo 2-in-1 Laptop for only $199.99. #DailyDeal https://t.co/zACip3LEyZ\n",
      "Save $80 on a LaserJet Pro MFP M127fw Wireless Black-and-White All-in-One Laser Printer. #DailyDeal https://t.co/AzhAFHtjUd\n",
      "RT @BestBuy: Real sharks and ninjas, crazy dangerous.\n",
      "These Sharks and Ninjas products, crazy on sale.\n",
      "Get yours now: https://t.co/AuuPZAWs…\n",
      "Save on Animal Crossing Games and amiibo. #DailyDeal https://t.co/vkdjmiOwX4\n",
      "Save $60 on an LG 40\" Class (40\" Diag.) LED 1080p HDTV. #DailyDeal https://t.co/1wUV5vsPuW\n",
      "Get a MacBook Air 13.3” today and save $100. #DailyDeal https://t.co/gH9z5FISEf\n",
      "Save $50 on an Insignia™ 48\" Class (47.6\" Diag.) LED 1080p HDTV. #DailyDeal https://t.co/KopLsPfbHr\n",
      "Get Exclusive Savings in our App. \n",
      "Save on an Insignia Portable Projector and GoPro HERO4 Black, for a limited time.\n",
      "https://t.co/cUwEAarWEu\n",
      "Save $40 on a JVC CD Built-in Bluetooth, iPod and Satellite-Radio-Ready In-Dash Deck. #DailyDeal https://t.co/SeCKelqKSR\n",
      "Save $30 on a Toshiba 32\" Class (31.5\" Diag.) LED 720p HDTV. #DailyDeal https://t.co/VyEJI7BCT4\n",
      "Save on select Sony Xperia Unlocked Smartphones. #DailyDeal https://t.co/UjZVF5EvRA\n",
      "Get a Free $50 Gift Card with Purchase of a DxO ONE 20.2-Megapixel Digital Camera. #DailyDeal https://t.co/pi5mz8TgWK\n",
      "Save $200 on an Inspiron 23.8\" Touch-Screen All-In-One Computer. #DailyDeal https://t.co/T1B0FLppNQ\n",
      "Save $40 on a Toshiba 32\" Class (31.5\" Diag.) LED 720p HDTV with Chromecast Built-in. #DailyDeal https://t.co/5BNEWWB8pH\n",
      "Get 50% off select Logitech Mice. #DailyDeal https://t.co/Ea0ba5OtMd\n",
      "Save 50% on a Cricket Wireless BYOD SIM Kit. #DailyDeal https://t.co/RNxvfD8wIs\n",
      "Save $100 and get a Free $50 Gift Card with the Sony Cyber-Shot RX100M III 20.1MP Digital Camera. #DailyDeal https://t.co/yn0a7T3xbx\n",
      "Save $30 on select Philips Sonicare AirFloss Ultra Interdental cleaners. #DailyDeal https://t.co/Oln1ukYCmq\n",
      "Save $85 on a Jawbone Mini Jambox Portable Bluetooth Speaker. #DailyDeal https://t.co/ohVmG9sIbg\n",
      "Get instant savings on select video games. #DailyDeal https://t.co/INnrmCM9SK\n",
      "Save $20 on an Anova Precision Cooker. #DailyDeal https://t.co/l5NWuJE25h\n",
      "Save $40 on a JVC CD Built-in Bluetooth, iPod and Satellite-Radio-Ready In-Dash Deck. #DailyDeal https://t.co/FTWiEHNRu8\n",
      "Get an iPad Pro today and save $100 on select models. #DailyDeal https://t.co/aZtvSxKTuS\n",
      "Save up to 61% on select amiibo. #DailyDeal https://t.co/DfiCLtE2pB\n",
      "Deal seekers, seek no more. Find them online or in stores.\n",
      "https://t.co/cjYbLMo8VD\n",
      "Get Call of Duty: Ghosts on PS4 for $7.99. Find this deal and other exclusive savings in our app for a limited time. https://t.co/1Ae2078TAv\n",
      "Find great savings on select SanDisk Ultra and Ultra PLUS Memory Cards. #DailyDeal https://t.co/GafhL93Rd1\n",
      "Save $30 on an Insignia™ 39\" Class (38.5\" Diag.) LED 720p HDTV. #DailyDeal https://t.co/ok2jb9WDhk\n",
      "Get a Lenovo Laptop for $199.99. #DailyDeal https://t.co/mGgCFhhEQq\n",
      "Only $5.99 for select iPad cases. #DailyDeal\n",
      "https://t.co/vZ9guRaKpq\n",
      "Save $450 on an LG 65\" Class (64.5\" Diag.) LED 2160p Smart 4K Ultra HD TV. #DailyDeal\n",
      "https://t.co/Dtgg5nPQ0J\n",
      "Save over 35% on the Legend of Korra: Seasons 1-4 on Blu-ray. #DailyDeal\n",
      "https://t.co/JGNTUWP2r8\n",
      "Save $100 on a Toshiba 55\" Class (54.6\" Diag.) LED 1080p Google Cast HDTV. #DailyDeal #OnlyAtBestBuy\n",
      "https://t.co/ZEjraLi0OS\n",
      "Looking for an iPad Mini 2? Download our app to find exclusive savings of $50 for a limited time on select models. https://t.co/1Ae2078TAv\n",
      "Get a Verizon Wireless Prepaid Samsung Gusto 3 No-Contract Phone for only  $9.99. #DailyDeal\n",
      "\n",
      "https://t.co/8QlElzlvpF\n",
      "Get a Dell Inspiron 14\" laptop with 2GB of memory for $149.99. #DailyDeal\n",
      "https://t.co/6wf6cOoXxU\n",
      "Save $50 on Sony Wireless On-Ear Stereo Headphones in Black. #DailyDeal https://t.co/tzVt6bA33H\n",
      "Save $80 on a Sharp 50\" Class (49.5\" Diag.) LED 1080p Smart HDTV with Roku. #DailyDeal #OnlyAtBestBuy\n",
      "https://t.co/yo4jNBstYG\n",
      "Find great savings on the latest Star Wars merchandise today. #DailyDeal\n",
      "https://t.co/j2g1aVea24\n",
      "Save $150 on a Certified Pre-Owned iPhone 6s 64GB Cell Phone (Unlocked). #DailyDeal\n",
      "https://t.co/oKZYaC1fJc\n",
      "Save $40 on a Toshiba 32\" Class (31.5\" Diag.) LED 720p HDTV. #DailyDeal\n",
      "https://t.co/LlccS07w9L\n",
      "Looking for great deals you can’t get anywhere else? Download our app to find them now for a limited time only. \n",
      "https://t.co/1Ae2078TAv\n",
      "Save on LEGO Dimensions Level, Team and Fun Packs. #DailyDeal\n",
      "https://t.co/cKsSYVr5JX\n",
      "Get a Dell Laptop for only $259.99. #DailyDeal\n",
      "https://t.co/NYUQIN5s3s\n",
      "Save $100 on select Altec Lansing Boom Jacket Bluetooth Speakers. #DailyDeal\n",
      "https://t.co/RzLfnHdOUt\n",
      "Save $60 on a select 128GB microSDHC Class 10 UHS-I/U1 Memory Card. #DailyDeal\n",
      "https://t.co/tPuWOmV7vc\n",
      "Save $80 on an LG 40\" Class (40\" Diag.) LED 1080p HDTV. #DailyDeal\n",
      "https://t.co/Ofxx6MQ31J\n",
      "Get 25%–50% Off Select Video Games. #DailyDeal\n",
      "https://t.co/eIqLtAYf9I\n",
      "Save $30 on a Sharp 32\" Class (31.5\" Diag.) LED 1080p HDTV. #DailyDeal #OnlyAtBestBuy\n",
      "https://t.co/VUegiEA2Eu\n",
      "Only $299.99 for the LG V10 4G with 64GB Memory Cell Phone (Verizon Wireless). #DailyDeal\n",
      "https://t.co/GpXM1f7pEh\n",
      "Save on select 8GB and 32GB Ultra PLUS 10 UHS-1 Memory Cards. #DailyDeal\n",
      "https://t.co/96WfkF2CDb\n",
      "Save 40% on Ocean’s Trilogy Collection on Blu-ray. #DailyDeal\n",
      "https://t.co/Z20NCz36x9\n",
      "Save $50 on JBL Stephen Curry Signature Edition Reflect Mini BT In-Ear Wireless Sport Headphones. #DailyDeal\n",
      "https://t.co/2xSa3X5TIx\n",
      "Save $50 on a Sharp 50\" Class (49.5\" Diag.) LED 1080p Smart HDTV Roku TV. #DailyDeal #OnlyAtBestBuy\n",
      "https://t.co/q9SHTqitbe\n",
      "Save $50 on a 32GB Acer One 10 with Keyboard in Silver. #DailyDeal\n",
      "https://t.co/DfmclHVlNX\n",
      "Save on select 16GB Ultra and 32GB or 128GB Ultra Plus Memory Cards. #DailyDeal\n",
      "https://t.co/HE9qG9yJu7\n",
      "Save 50% on Star Trek: Deep Space 9 Complete Collection on DVD. #DailyDeal\n",
      "https://t.co/9v83QRv63w\n",
      "Save $60 on an HP Laptop. #DailyDeal\n",
      "https://t.co/ffN8xrp185\n",
      "Save $30 on a Sharp 43\" Class (42.5\" Diag.) LED 1080p Smart HDTV Roku TV. #DailyDeal #OnlyAtBestBuy\n",
      "https://t.co/NNFOpzVOfo\n",
      "Save 50% on the K400 Plus Logitech Wireless Touch Keyboard. #DailyDeal\n",
      "https://t.co/HgC2ltte7m\n",
      "Get Madden NFL 16 or FIFA 16 for only $9.99 on the Xbox One. #DailyDeal\n",
      "https://t.co/LPeg4vBFOH\n",
      "Save $100 on a Toshiba 49\" Class (48.5\" Diag.) LED 2160p Google Cast 4K Ultra HD TV. #DailyDeal\n",
      "https://t.co/uISJWb0bVj\n",
      "Download our mobile app to get this exclusive app-only offer: Save $80 on a Dell Inspiron 14” Laptop. https://t.co/TPZBbm1wZE\n",
      "Save $5 on an AudioQuest Dragonfly 1.2 Digital Audio Converter. #DailyDeal https://t.co/SKqCF83xrw\n",
      "Save $45 on select Pixtor 32GB microSDHC or $76 on select 64GB microSDXC Class 10 Memory Cards. #DailyDeal\n",
      "https://t.co/5Zbo407wPs\n",
      "Save $20 on a Toshiba 32\" Class (31.5\" Diag.) LED 720p HDTV. #DailyDeal\n",
      "https://t.co/k0RUl8zv4s\n",
      "Save $70 on a Dell Laptop. #DailyDeal\n",
      "https://t.co/95jOoaGjsB\n",
      "Save $30 on an LG Watch Urbane Smartwatch in Stainless Steel - Silver Leather. #DailyDeal\n",
      "https://t.co/ddxfBmEuXa\n",
      "Save $30 on an Insignia™ 48\" Class (47.6\" Diag.) LED 1080p Smart HDTV with Roku. #DailyDeal https://t.co/KO4fDyqFxV\n",
      "Save $70 on a Lenovo Laptop. #DailyDeal https://t.co/8zKqFA9epO\n",
      "Send dust bunnies running. https://t.co/KtCAmybPnZ\n",
      "Save $40 on a Toshiba 32\" Class (31.5\" Diag.) LED 720p HDTV with Google Cast. #DailyDeal\n",
      "https://t.co/MlRchjPle4\n",
      "Download our mobile app to find great deals and more: Save $50 on a Toshiba 32\" Class (31.5\" Diag.) Smart HDTV.  https://t.co/PIS9R08bRG\n",
      "50% off select Selfie Sticks. #DailyDeal https://t.co/H1rx4RHZVb\n",
      "Save $100 on select MacBook Pro Models. #DailyDeal https://t.co/lknhQpDJez\n",
      "Save on select SanDisk Class 10 Memory Cards with 8GB, 16GB, or 32GB of storage. #DailyDeal\n",
      "https://t.co/HfryrT82sg\n",
      "Save $30 on a pair of Insignia™ Wireless Headphones in Gray or Black. #DailyDeal #OnlyAtBestBuy\n",
      "https://t.co/wX8xkv3lBB\n",
      "Save $50 on a Lenovo 15.6\" Laptop with 4GB Memory and a 500GB Hard Drive. #DailyDeal https://t.co/Ct0gc4zo1X\n",
      "Get a Nutri Ninja Auto-IQ Pro Complete 4-Speed Blender for 50% off. #DailyDeal\n",
      "https://t.co/GUBakAFdgD\n",
      "Download our app to find great deals for on-the-go tech-lovers. 25% off Acer 32GB tablet, plus more. https://t.co/IhYTMmKQe6\n",
      "Save up to $80 on select Jabra Wireless Headphones. #DailyDeal\n",
      "https://t.co/ubgSr5Dkr7\n",
      "Save $100 on a LG 40\" Class - (40\" Diag.) LED 1080p HDTV. #DailyDeal\n",
      "https://t.co/FGk4YkI8GC\n",
      "Save $400 on the Canon EOS Rebel SL1 DSLR Camera in White with 18-55mm STM and 75-300mm III Lenses. #DailyDeal\n",
      "https://t.co/rZEq56vk4O\n",
      "Save 40% on Saved By The Bell: The Complete Collection. #DailyDeal\n",
      "https://t.co/7tuWCHUuZM\n",
      "Save $20 on a Westinghouse 55\" Class (54.6\" Diag.) LED 1080p HDTV. #DailyDeal https://t.co/aKfqHBKcA9\n",
      "Save $50 and take control of your TV, Blu-ray Disc player and other devices with an RCA Nevo remote. #DailyDeal https://t.co/wXqD4BjKw1\n",
      "Save $100 on Select Models of the iPad Pro 9.7-Inch. #DailyDeal https://t.co/HJhFUBCZOA\n",
      "Great deals on tech for your dorm. #DailyDeal https://t.co/0stgQD8Ev5\n",
      "Save $70 on an Acer Laptop. #DailyDeal https://t.co/9eI1nkodD3\n",
      "Save 60% on Sex and the City: The Complete Collection. #DailyDeal https://t.co/8ujJq70mFc\n",
      "Save on Ultra Plus 16GB, 32GB, and 64GB SDHC Class 10 UHS-1 Memory Cards. #DailyDeal https://t.co/w2Eskb3u7o\n",
      "Save $40 on a new Toshiba 32\" Class (31.5\" Diag.) LED 720p Smart HDTV. #DailyDeal https://t.co/s3002CkqLu\n",
      "Save 50% on select Laptops. #DailyDeal\n",
      "https://t.co/SZchmpmCCS\n",
      "Download our mobile app to get this exclusive app-only offer and more: Save $100 on an HP 15.6\" Touch-Screen Laptop. https://t.co/WQHHyEmdEh\n",
      "Save $15 on a DualShock 4 Controller with purchase of the Uncharted 4 Game. #DailyDeal https://t.co/KoiGdBYDR3\n",
      "Save $100 on the HERO+ LCD HD Waterproof Action Camera. #DailyDeal https://t.co/nB1BbxUjyX\n",
      "Save $100 on select MacBook Pro models. #DailyDeal https://t.co/0CCe51xj4u\n",
      "Save on select Fire TV streaming devices and access thousands of TV shows, movies, songs and games. #DailyDeal https://t.co/vQWBDlGp5m\n",
      "Make on-the-go audio simple and save $80 on select Bose Headphones. #DailyDeal https://t.co/dtjtfwNoGe\n",
      "Save $25 on a 64GB Class 10 EVO+ Micro SD memory card. #DailyDeal https://t.co/FKyESdzGps\n",
      "Save $50 on a Sharp 32\" Class (31.5\" Diag.) LED - 1080p HDTV. #OnlyAtBestBuy #DailyDeal https://t.co/47OpUL3ClA\n",
      "Save $110 on How I Met Your Mother: The Complete Series. #DailyDeal https://t.co/b4OWOKwagb\n",
      "Save 50% on the Beats Pill 2.0 Portable Bluetooth Speaker in Red. #DailyDeal https://t.co/Q351uKWdMi\n",
      "Save $100 on an 11” MacBook Air. #DailyDeal https://t.co/GKS9vOpVNI\n",
      "Download our mobile app to get this exclusive app-only offer: Monster Gold Home Theater Kit for $59.99. https://t.co/mOLclQtEjt\n",
      "Download our mobile app to get this exclusive app-only offer: Red Lenovo Thinbook for $109.99. https://t.co/8Cy7y1paVy\n",
      "Save $20 on select LEGO Star Wars: The Force Awakens. #DailyDeal https://t.co/vlgeQykLuB\n",
      "Powerful sound. Compact size. Party ready.\n",
      "https://t.co/p1AVMu76Hq https://t.co/Od6GQVT6mE\n",
      "Save $50 on an HP laptop. #DailyDeal https://t.co/6LX4QAwnqe\n",
      "Save $100 on a pair of Kurbis 5.25\" 300W Bluetooth Speakers. #DailyDeal https://t.co/zlPlDcnEfl\n",
      "Get FIFA 16 for free with purchase of the @Xbox One Elite Controller. #DailyDeal https://t.co/nGPtrg0CdS\n",
      "Buy @Xbox One Rise of the Tomb Raider Bundle and get a $50 gift card, a 🎮, 🔋 Charging Station and 2 select games. https://t.co/qj9yVFoh4f\n",
      "Save $60 on a Haier 65-pint Portable Dehumidifier. #DailyDeal https://t.co/czfZrRSNhF\n",
      "Can’t get enough #Pokemon? Pick up one of the O.G. games. @NintendoAmerica https://t.co/JnOurUwGj2\n",
      "Soon there will be even more #Pokemon to catch. @NintendoAmerica https://t.co/PYEccMHOmO\n",
      "Constantly giving your printer a workout? We can help. https://t.co/egT4hpf11U\n",
      "Download our mobile app to get this exclusive in-app-only offer: Apple TV 64 GB for $149.99. https://t.co/OkjtLv1Hgv\n",
      "Buy @PlayStation 4 COD:Black Ops 3 bundle and get Disney Infinity 3.0 Starter Pack + The Last of Us Remastered free. https://t.co/cnh1G5gvXw\n",
      "Save $50 on an Insignia™ 40” (39.5\" Diag.) Class LED 1080p HDTV. #DailyDeal https://t.co/IR7CH7UcSr\n",
      "Save on select microSDHC Class 10 Memory Cards in 128GB, 64GB or 32GB storage sizes. #DailyDeal https://t.co/DcA7WQsmC3\n",
      "RT @BestBuy: Want to keep up with all the Summer Games in real\n",
      "time? Ask a Blue Shirt how. https://t.co/2cabeT7P5L\n",
      "Save $120 on Geek Squad Certified Refurbished Powerbeats2 Wireless Earbud Headphones. #DailyDeal https://t.co/2zTlKHsM5F\n",
      "Get an Asus Laptop for only $217.99. #DailyDeal https://t.co/NqtgpZWPoz\n",
      "Save $130 on a 4.3 cu. Ft. Compact Refrigerator. #DailyDeal https://t.co/6sGuwcrwGv\n",
      "Save $300 on a 23.8” Dell Inspiron Touch-Screen All-in-One computer. #DailyDeal https://t.co/90HisJa5gZ\n",
      "Deal seekers, seek no more. Find them online or\n",
      "in stores. https://t.co/9q3kPO4wFT\n",
      "Save $40 on a Samsung 32\" Class (31.5\" Diag.) LED 720p Smart HDTV. #DailyDeal https://t.co/RJEd3LQfMl\n",
      "Save $35 on a Belkin Watch Valet Charge Dock for the Apple® Watch™. #DailyDeal https://t.co/XXtFpdWwLb\n",
      "Looking for great deals you can’t get anywhere else? Check out our app to find them. https://t.co/Bge0QBzkHb\n",
      "Save $65 on House: The Complete Series. #DailyDeal https://t.co/fC1WpxdGJy\n",
      "Save $70 on a Lenovo Laptop and start surfing the internet smoothly. #DailyDeal https://t.co/eJZ6m36BCh\n",
      "Save $80 on an Insignia™ 50\" Class (49.5\" Diag.) LED 1080p HDTV. #DailyDeal https://t.co/DEVxpPywho\n",
      "Don’t let the “low ink” alert get you down. https://t.co/Fi44K1SHeV\n",
      "Save $4 on a Pixtor 16GB SDHC Memory Card. #DailyDeal https://t.co/wDwYQKNXqS\n",
      "Save $150 on select Macbook Air models. #DailyDeal https://t.co/CWKYGjGC8Q\n",
      "RT @BestBuy: The TVs you want.\n",
      "At prices you won’t believe.\n",
      "#TodayOnly https://t.co/QNSZq9CtQE\n",
      "Save $30 on a Westinghouse 40\" LED 1080p HDTV. #DailyDeal https://t.co/C9TZ6pXjaZ\n",
      "Save $200 on a 50” Samsung LED 2160p Smart 4K Ultra HDTV. #DailyDeal https://t.co/u6v2zl8FUX\n",
      "Save $50 on an Insignia™ 50\" LED 1080 HDTV. #DailyDeal https://t.co/Rw3COg4XWF\n",
      "RT @BestBuy: Buy any Mac product or iPad Pro and save up to $70 on Apple TV. https://t.co/gsvvV8JVkq https://t.co/84IWByRS1e\n",
      "Save $30 and get the shot you want on your action camera with a Sunpak mount kit. #DailyDeal https://t.co/HYnnPx3DrD\n",
      "Save $80 on a new laptop today.\n",
      "Get the Lenovo Ideapad 100s for $119.99, only in our Best Buy app. Download it now. https://t.co/1WMZJxKg4w\n",
      "Save $100 on a Lenovo 2-in-1 Laptop. #OnlyAtBestBuy #DailyDeal https://t.co/NnmQOjRWft\n",
      "Only online, get the Insignia 32” Class Smart Roku TV for $119.99. https://t.co/S0vaD2gHp2 #OnlyAtBestBuy https://t.co/JaindNWvbZ\n",
      "Save $25 on #StreetFighterV for the PS4. #DailyDeal https://t.co/dr2OnJd3jU\n",
      "Save $40 on a Toshiba 28\" LED 720p HDTV. #DailyDeal https://t.co/M9prG7muXl\n",
      "Save $150 on select #Beats Studio Wireless Over-the-Ear Headphones and rock out to your favorite songs. #DailyDeal https://t.co/KAwJcoy6UX\n",
      "Save $150 on an Asus 2-in-1 Laptop. #DailyDeal https://t.co/B1xKmNG5BY\n",
      "$1 for the Samsung Galaxy Note5 64G with Activation and 2-Year Contract. #DailyDeal https://t.co/lcZx2wTQPH\n",
      "Save $50 on an Insignia™ 39\" LED 720p HDTV. #DailyDeal https://t.co/6Y2cx5Ybtv\n",
      "Save $10 or $15 on Select NBA 2K16 and WWE 2K16 Video Games. #DailyDeal https://t.co/Lro0UcyrXn\n",
      "Save $50 on select MacBook Air models. #DailyDeal https://t.co/0KD6LEChgR\n",
      "Save $42 on a SanDisk Pixtor 32GB SDHC Memory Card. #DailyDeal https://t.co/jUQ37q0IuJ\n",
      "Save $80 on a 49” Toshiba LED 1080p HDTV. #DailyDeal https://t.co/SHeLKs748k\n",
      "Save $35 on Fallout 4 and $20 on The Elder Scrolls Online Tamriel Unlimited. #DailyDeal https://t.co/41gcu3lFPp\n"
     ]
    }
   ],
   "source": [
    "for tweet in timeline:\n",
    "        deal = (tweet['text'])\n",
    "        print deal"
   ]
  },
  {
   "cell_type": "code",
   "execution_count": 288,
   "metadata": {
    "collapsed": false
   },
   "outputs": [],
   "source": [
    "dealMatchGauranteed=[]\n",
    "p=[]\n",
    "for product in cursor:\n",
    "    for tweet in timeline:\n",
    "        deal = (tweet['text']).encode('ascii','ignore')\n",
    "        if (len(re.findall(r'\\s'+product[1]+'\\s',deal)) >= 1):\n",
    "            dealMatchGauranteed = dealMatchGauranteed + [deal]\n",
    "            p.append(product)\n",
    "# print product"
   ]
  },
  {
   "cell_type": "code",
   "execution_count": 289,
   "metadata": {
    "collapsed": false
   },
   "outputs": [
    {
     "name": "stdout",
     "output_type": "stream",
     "text": [
      "2\n",
      "Samsung Galaxy S7\n",
      "['Samsung Galaxy S7', 'HP 17.3\"']\n"
     ]
    }
   ],
   "source": [
    "print len(dealMatchGauranteed)\n",
    "# print p[0]\n",
    "lis=[item[1]for item in p]\n",
    "print lis[0]\n",
    "print lis"
   ]
  },
  {
   "cell_type": "code",
   "execution_count": 290,
   "metadata": {
    "collapsed": true
   },
   "outputs": [],
   "source": [
    "# x= []\n",
    "# for m in re.finditer('*1', dealMatchGauranteed):\n",
    "#     x.append(m.start())\n",
    "\n",
    "# for m in x:  \n",
    "#     if x.index(m)== 0:\n",
    "#         dealMatchGauranteed= dealMatchGauranteed[0:m+(10*x.index(m))] + lis[0]  + dealMatchGauranteed[m+(10*x.index(m)):len(dealMatchGauranteed)]"
   ]
  },
  {
   "cell_type": "code",
   "execution_count": 291,
   "metadata": {
    "collapsed": false
   },
   "outputs": [],
   "source": [
    "# dealMatchFile = open('DealMatches.txt', 'w')\n",
    "\n",
    "# for deal in dealMatchGauranteed:\n",
    "#   dealMatchFile.write(\"%s\\n\" % deal)\n",
    "\n",
    "# dealMatchFile.close()"
   ]
  },
  {
   "cell_type": "code",
   "execution_count": null,
   "metadata": {
    "collapsed": true
   },
   "outputs": [],
   "source": []
  },
  {
   "cell_type": "code",
   "execution_count": 292,
   "metadata": {
    "collapsed": false
   },
   "outputs": [
    {
     "name": "stdout",
     "output_type": "stream",
     "text": [
      "Free $400 gift card + free Samsung Gear VR when you buy a Samsung Galaxy S7 or S7 edge on Verizon. #GiftingMadeEasy https://t.co/uqDPy7j42Y\n",
      "Save $70 on a select HP 17.3\" Laptop with Intel Core i7, 8GB Memory and a 1TB Hard Drive. #DailyDeal https://t.co/bHGVgeEeAu\n"
     ]
    }
   ],
   "source": [
    "for m in dealMatchGauranteed:\n",
    "    print m"
   ]
  },
  {
   "cell_type": "code",
   "execution_count": 293,
   "metadata": {
    "collapsed": false
   },
   "outputs": [
    {
     "name": "stdout",
     "output_type": "stream",
     "text": [
      "['*1**', 'Free $400 gift card + free Samsung Gear VR when you buy a Samsung Galaxy S7 or S7 edge on Verizon. #GiftingMadeEasy https://t.co/uqDPy7j42Y', '**1**', 'Save $70 on a select HP 17.3\" Laptop with Intel Core i7, 8GB Memory and a 1TB Hard Drive. #DailyDeal https://t.co/bHGVgeEeAu']\n"
     ]
    }
   ],
   "source": [
    "li1=[]\n",
    "\n",
    "dealMatchGauranteed.insert(0, '*1**') \n",
    "\n",
    "dealMatchGauranteed.insert(2, '**1**')\n",
    "print dealMatchGauranteed\n",
    "data= dealMatchGauranteed"
   ]
  },
  {
   "cell_type": "code",
   "execution_count": 294,
   "metadata": {
    "collapsed": false
   },
   "outputs": [
    {
     "name": "stdout",
     "output_type": "stream",
     "text": [
      "*1**Free $400 gift card + free Samsung Gear VR when you buy a Samsung Galaxy S7 or S7 edge on Verizon. #GiftingMadeEasy https://t.co/uqDPy7j42Y**1**Save $70 on a select HP 17.3\" Laptop with Intel Core i7, 8GB Memory and a 1TB Hard Drive. #DailyDeal https://t.co/bHGVgeEeAu\n"
     ]
    }
   ],
   "source": [
    "str1 = ''.join(dealMatchGauranteed)\n",
    "print str1"
   ]
  },
  {
   "cell_type": "code",
   "execution_count": 295,
   "metadata": {
    "collapsed": false
   },
   "outputs": [
    {
     "name": "stdout",
     "output_type": "stream",
     "text": [
      "[0]\n",
      "[158]\n",
      "Samsung Galaxy S7**Free $400 gift card + free Samsung Gear VR when you buy a Samsung Galaxy S7 or S7 edge on Verizon. #GiftingMadeEasy https://t.co/uqDPy7j42Y\n",
      "HP 17.3\"**Save $70 on a select HP 17.3\" Laptop with Intel Core i7, 8GB Memory and a 1TB Hard Drive. #DailyDeal https://t.co/bHGVgeEeAu\n"
     ]
    }
   ],
   "source": [
    "x= []\n",
    "# for m in re.finditer('*1', dealMatchGauranteed):\n",
    "#     x.append(m.start())\n",
    "x.append(str1.find('*1'))\n",
    "print x\n",
    "for m in x:  \n",
    "    if x.index(m)== 0:\n",
    "        str1=str1[0:m+(10*x.index(m))] + lis[0]  + str1[m+(10*x.index(m)+2):len(str1)]\n",
    " \n",
    "y=[]\n",
    "y.append(str1.find('**1'))\n",
    "print y\n",
    "for m in y:  \n",
    "    if y.index(m)== 0:\n",
    "        str1=str1[0:m+(10*y.index(m))] + '\\n'+ lis[1]  + str1[m+(10*y.index(m)+3):len(str1)]        \n",
    "print str1"
   ]
  },
  {
   "cell_type": "code",
   "execution_count": null,
   "metadata": {
    "collapsed": true
   },
   "outputs": [],
   "source": [
    "# for m in x:  \n",
    "#     if x.index(m)== 0:\n",
    "#         dealMatchGauranteed= dealMatchGauranteed[0:m+(10*x.index(m))] + lis[0]  + dealMatchGauranteed[m+(10*x.index(m)):len(dealMatchGauranteed)]"
   ]
  },
  {
   "cell_type": "code",
   "execution_count": 285,
   "metadata": {
    "collapsed": false
   },
   "outputs": [],
   "source": [
    "dealMatchFile = open('DealMatches.txt', 'w')\n",
    "\n",
    "\n",
    "for deal in dealMatchGauranteed:\n",
    "    dealMatchFile.write(\"%s\\n\" %( deal))\n",
    "\n",
    "dealMatchFile.close()"
   ]
  },
  {
   "cell_type": "code",
   "execution_count": 296,
   "metadata": {
    "collapsed": true
   },
   "outputs": [],
   "source": [
    "with open(\"DealMatches.txt\", \"w\") as text_file:\n",
    "    text_file.write(\" %s\" % str1)"
   ]
  },
  {
   "cell_type": "code",
   "execution_count": 183,
   "metadata": {
    "collapsed": false
   },
   "outputs": [],
   "source": [
    "# print p[0]\n",
    "for x in p:\n",
    "    print x"
   ]
  },
  {
   "cell_type": "code",
   "execution_count": null,
   "metadata": {
    "collapsed": true
   },
   "outputs": [],
   "source": []
  },
  {
   "cell_type": "code",
   "execution_count": null,
   "metadata": {
    "collapsed": true
   },
   "outputs": [],
   "source": []
  }
 ],
 "metadata": {
  "anaconda-cloud": {},
  "kernelspec": {
   "display_name": "Python [conda root]",
   "language": "python",
   "name": "conda-root-py"
  },
  "language_info": {
   "codemirror_mode": {
    "name": "ipython",
    "version": 2
   },
   "file_extension": ".py",
   "mimetype": "text/x-python",
   "name": "python",
   "nbconvert_exporter": "python",
   "pygments_lexer": "ipython2",
   "version": "2.7.12"
  }
 },
 "nbformat": 4,
 "nbformat_minor": 1
}
